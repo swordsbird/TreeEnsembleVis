{
 "cells": [
  {
   "cell_type": "code",
   "execution_count": 2,
   "source": [
    "from sklearn.model_selection import train_test_split\n",
    "from sklearn.ensemble import RandomForestClassifier\n",
    "from sklearn.preprocessing import StandardScaler\n",
    "from sklearn.metrics import accuracy_score, precision_score, recall_score, f1_score\n",
    "import pandas as pd\n",
    "import numpy as np\n",
    "#import matplotlib.pyplot as plt\n",
    "from imblearn.over_sampling import SMOTE"
   ],
   "outputs": [],
   "metadata": {}
  },
  {
   "cell_type": "code",
   "execution_count": 3,
   "source": [
    "random_state = 114\n",
    "criterion = \"entropy\"\n",
    "max_depth = 8\n",
    "max_features = \"sqrt\"\n",
    "n_estimators = 150\n",
    "max_leaf_nodes = 90\n",
    "bootstrap = True\n",
    "\n",
    "data_table = pd.read_csv('data/german.csv')\n",
    "#for feature in unimportance_features:\n",
    "#    data_table = data_table.drop(feature, axis=1)\n",
    "X = data_table.drop('Creditability', axis=1).values\n",
    "y = data_table['Creditability'].values\n",
    "\n",
    "sm = SMOTE(random_state=random_state)\n",
    "X_train, X_test, y_train, y_test = train_test_split(\n",
    "    X, y, test_size=0.30, random_state=random_state)\n",
    "X_train, y_train = sm.fit_resample(X_train, y_train)\n",
    "\n",
    "\n",
    "best_acc = 0\n",
    "\n",
    "clf = RandomForestClassifier(\n",
    "    max_leaf_nodes=max_leaf_nodes,\n",
    "    max_features=max_features,\n",
    "    bootstrap=bootstrap,\n",
    "    criterion=criterion, \n",
    "    max_depth=max_depth,\n",
    "    random_state=random_state,\n",
    "    n_estimators=n_estimators,\n",
    ")\n",
    "\n",
    "clf.fit(X_train, y_train)\n",
    "y_pred = clf.predict(X_test)\n",
    "features = data_table.drop('Creditability', axis=1).columns.to_list()\n",
    "acc = accuracy_score(y_test, y_pred)\n",
    "\n",
    "print('Accuracy Score is', accuracy_score(y_test, y_pred))\n",
    "print('Precision is', precision_score(y_test, y_pred))\n",
    "print('Recall is', recall_score(y_test, y_pred))\n",
    "print('F1-Score is', f1_score(y_test, y_pred))"
   ],
   "outputs": [
    {
     "output_type": "stream",
     "name": "stdout",
     "text": [
      "Accuracy Score is 0.82\n",
      "Precision is 0.8820754716981132\n",
      "Recall is 0.8657407407407407\n",
      "F1-Score is 0.8738317757009345\n"
     ]
    }
   ],
   "metadata": {}
  },
  {
   "cell_type": "code",
   "execution_count": 4,
   "source": [
    "\n",
    "class PathExtractor():\n",
    "    def __init__(self, forest, X, y, X_train, y_train, features):\n",
    "        self.X, self.y = X, y   # original training data\n",
    "\n",
    "        self.features = features\n",
    "        self.n_features = len(self.features)\n",
    "        self.categories = np.unique(y).tolist()\n",
    "        self.n_categories = len(self.categories)\n",
    "        self.feature_range = [np.min(X, axis=0), np.max(X, axis=0)+1e-9]\n",
    "        self.category_total = [np.sum(self.y == i)\n",
    "                               for i in range(self.n_categories)]\n",
    "        self.forest = forest\n",
    "        self.X = X\n",
    "        self.y = y\n",
    "        self.X_train = X_train\n",
    "        self.y_train = y_train\n",
    "        self.n_examples = len(self.y)\n",
    "        self.n_examples2 = len(self.y_train)\n",
    "        self.n_estimators = forest.n_estimators\n",
    "\n",
    "    def get_paths(self, min_impurity_decrease=0.0):\n",
    "        self.paths = [[] for i in range(self.n_estimators)]\n",
    "        self.min_impurity_decrease = min_impurity_decrease\n",
    "        for i in range(self.n_estimators):\n",
    "            self.dfs(i, 0, {}, np.ones(self.n_examples),\n",
    "                     np.ones(self.n_examples2))\n",
    "        return self.paths\n",
    "\n",
    "    def dfs(self, i, u, feature_range, vec_examples, vec_examples2):\n",
    "        tr = self.forest.estimators_[i].tree_\n",
    "\n",
    "        def impurity_decrease(tr, u):\n",
    "            N_t = tr.n_node_samples[u]\n",
    "            I_t = tr.impurity[u]\n",
    "            N = tr.n_node_samples[0]\n",
    "            Lc = tr.children_left[u]\n",
    "            Rc = tr.children_right[u]\n",
    "            N_l = tr.n_node_samples[Lc]\n",
    "            I_l = tr.impurity[Lc]\n",
    "            N_r = tr.n_node_samples[Rc]\n",
    "            I_r = tr.impurity[Rc]\n",
    "            return N_t/N*(I_t-N_r/N_t*I_r-N_l/N_t*I_l)\n",
    "\n",
    "        def cpy(m):\n",
    "            return {key: m[key].copy() for key in m}\n",
    "\n",
    "        if tr.children_left[u] < 0 or tr.children_right[u] < 0 or impurity_decrease(tr, u) < self.min_impurity_decrease:\n",
    "            distribution = [np.dot(vec_examples, self.y == cid)\n",
    "                            for cid in range(self.n_categories)]\n",
    "            distribution2 = [np.dot(vec_examples2, self.y_train == cid)\n",
    "                             for cid in range(self.n_categories)]\n",
    "            output = np.argmax(distribution2)\n",
    "            coverage = sum(distribution)\n",
    "            if coverage > 0:\n",
    "                self.paths[i].append({\n",
    "                    \"name\": 'r%d-%d' % (len(self.paths[i]), i),\n",
    "                    \"tree_index\": i,\n",
    "                    \"rule_index\": len(self.paths[i]),\n",
    "                    \"range\": {str(key): feature_range[key].copy() for key in feature_range},\n",
    "                    \"distribution\": distribution,\n",
    "                    \"coverage\": coverage,\n",
    "                    \"fidelity\": distribution[int(output)] / coverage,\n",
    "                    \"sample\": vec_examples,\n",
    "                    \"output\": str(output)\n",
    "                })\n",
    "        else:\n",
    "            feature = tr.feature[u]\n",
    "            threshold = tr.threshold[u]\n",
    "\n",
    "            _feature_range = cpy(feature_range)\n",
    "            if not feature in feature_range:\n",
    "                _feature_range[feature] = [self.feature_range[0]\n",
    "                                           [feature], self.feature_range[1][feature]+1e-9]\n",
    "            _feature_range[feature][1] = min(\n",
    "                _feature_range[feature][1], threshold)\n",
    "\n",
    "            _vec_examples = vec_examples*(self.X[:, feature] <= threshold)\n",
    "            _vec_examples2 = vec_examples2 * \\\n",
    "                (self.X_train[:, feature] <= threshold)\n",
    "\n",
    "            self.dfs(\n",
    "                i, tr.children_left[u], _feature_range, _vec_examples, _vec_examples2)\n",
    "\n",
    "            _feature_range = cpy(feature_range)\n",
    "            if not feature in feature_range:\n",
    "                _feature_range[feature] = [self.feature_range[0]\n",
    "                                           [feature], self.feature_range[1][feature]]\n",
    "            _feature_range[feature][0] = threshold\n",
    "\n",
    "            _vec_examples = vec_examples*(self.X[:, feature] > threshold)\n",
    "            _vec_examples2 = vec_examples2 * \\\n",
    "                (self.X_train[:, feature] > threshold)\n",
    "            self.dfs(\n",
    "                i, tr.children_right[u], _feature_range, _vec_examples, _vec_examples2)\n",
    "\n",
    "    # given X as input, find the range of fid-th feature to keep the prediction unchanged\n",
    "    def getRange(self, X, fid):\n",
    "        step = (self.feature_range[1][fid]-self.feature_range[0][fid])*0.005\n",
    "        L, R = X[fid], X[fid]\n",
    "        Xi = X.copy()\n",
    "        ei = np.array([1 if i == fid else 0 for i in range(self.n_features)])\n",
    "        result0 = self.predict([X])[0]\n",
    "        result1 = result0\n",
    "\n",
    "        while(result1 == result0 and L > self.feature_range[0][fid]):\n",
    "            Xi = Xi-step*ei\n",
    "            result1 = self.predict([Xi])[0]\n",
    "            L -= step\n",
    "        L = max(L, self.feature_range[0][fid])\n",
    "        LC = result1\n",
    "\n",
    "        Xi = X.copy()\n",
    "        while(result1 == result0 and R < self.feature_range[1][fid]):\n",
    "            Xi = Xi+step*ei\n",
    "            result1 = self.predict([Xi])[0]\n",
    "            R += step\n",
    "        R = min(R, self.feature_range[1][fid])\n",
    "        RC = result1\n",
    "        return {\n",
    "            \"L\": L,\n",
    "            \"LC\": LC,  # the prediction when X[fid]=L-eps\n",
    "            \"R\": R,\n",
    "            \"RC\": RC,  # the prediction when X[fid]=R+eps\n",
    "        }\n",
    "\n",
    "rf = PathExtractor(clf, X, y, X_train, y_train, features)"
   ],
   "outputs": [],
   "metadata": {}
  },
  {
   "cell_type": "code",
   "execution_count": 5,
   "source": [
    "paths = rf.get_paths()\n",
    "paths = [p for r in paths for p in r]\n",
    "print(len(paths))"
   ],
   "outputs": [
    {
     "output_type": "stream",
     "name": "stdout",
     "text": [
      "10733\n"
     ]
    }
   ],
   "metadata": {}
  },
  {
   "cell_type": "code",
   "execution_count": 6,
   "source": [
    "import pulp\n",
    "import numpy as np\n",
    "from sklearn.neighbors import LocalOutlierFactor\n",
    "\n",
    "class Extractor:\n",
    "    # 可以调用的接口：compute_accuracy和extract\n",
    "    def __init__(self, rf, X_raw, y_raw):\n",
    "        # rf：随机森林模型\n",
    "        # X_raw、y_raw：训练数据集\n",
    "        self.rf = rf\n",
    "        self.X_raw = X_raw\n",
    "        self.y_raw = y_raw\n",
    "        _paths = rf.get_paths()\n",
    "        self.paths = [p for r in _paths for p in r]# if p['fidelity'] > 0.7]\n",
    "        self.paths.sort(key=lambda x: -x['coverage'])\n",
    "\n",
    "    def compute_accuracy(self, paths):\n",
    "        # 计算数据集在给定规则集下的accuracy\n",
    "        # paths：规则集，为list\n",
    "        Mat = self.getMat(self.X_raw, self.y_raw, paths)\n",
    "        idx = np.argwhere(np.all(Mat[..., :] == 0, axis=0))\n",
    "        Mat = np.delete(Mat, idx, axis=1)\n",
    "        right = np.sum(Mat, axis=0)\n",
    "        return np.sum(np.where(right >= 0, 1, 0)) / len(self.X_raw)\n",
    "\n",
    "    def predict(self, paths):\n",
    "        # 计算数据集在给定规则集下的accuracy\n",
    "        # paths：规则集，为list\n",
    "        Mat = self.getMat(self.X_raw, self.y_raw, paths)\n",
    "        idx = np.argwhere(np.all(Mat[..., :] == 0, axis=0))\n",
    "        Mat = np.delete(Mat, idx, axis=1)\n",
    "        right = np.sum(Mat, axis=0)\n",
    "        return np.where(right > 0, 1, 0)\n",
    "\n",
    "    def extract(self, max_num, tau):\n",
    "        # 根据给定的max_num和tau，使用rf的全部规则和数据集抽取出相应的规则\n",
    "        # max_num：抽取出规则的最大数量\n",
    "        # tau：每个样本允许的最大惩罚\n",
    "        # 返回抽取出规则的列表、数据集使用全部规则的accuracy、数据集使用抽取规则的accuracy\n",
    "        Mat = self.getMat(self.X_raw, self.y_raw, self.paths)\n",
    "        self.Mat = Mat\n",
    "        w = self.getWeight(Mat)\n",
    "        new_paths, new_path_indexes = self.LP_extraction(w, Mat, max_num, tau)\n",
    "        accuracy_origin = self.compute_accuracy(self.paths)\n",
    "        accuracy_new = self.compute_accuracy(new_paths)\n",
    "        return new_path_indexes, new_paths, accuracy_origin, accuracy_new\n",
    "\n",
    "    def path_score(self, path, X, y):\n",
    "        ans = 2 * (y == int(path.get('output'))) - 1\n",
    "        m = path.get('range')\n",
    "        for key in m:\n",
    "            ans = ans * (X[:, int(key)] >= m[key][0]) * (X[:, int(key)] < m[key][1])\n",
    "        return ans\n",
    "\n",
    "    def getMat(self, X_raw, y_raw, paths):\n",
    "        # 覆盖矩阵Mat\n",
    "        Mat = np.array([self.path_score(p, X_raw, y_raw) for p in paths]).astype('float')\n",
    "        return Mat\n",
    "\n",
    "    def getWeight(self, Mat):\n",
    "        # 权重向量w\n",
    "        RXMat = np.abs(Mat)\n",
    "        XRMat = RXMat.transpose()\n",
    "        XXAnd = np.dot(XRMat, RXMat)\n",
    "        XROne = np.ones(XRMat.shape)\n",
    "        XXOr = 2 * np.dot(XROne, RXMat) - XXAnd\n",
    "        XXOr = (XXOr + XXOr.transpose()) / 2\n",
    "        XXDis = 1 - XXAnd / XXOr\n",
    "        K = int(np.ceil(np.sqrt(len(self.X_raw))))\n",
    "        clf = LocalOutlierFactor(n_neighbors=K, metric=\"precomputed\")\n",
    "        clf.fit(XXDis)\n",
    "        XW = -clf.negative_outlier_factor_\n",
    "        MXW, mXW = np.max(XW), np.min(XW)\n",
    "        XW = 1 + (3 - 1) * (XW - mXW) / (MXW - mXW)\n",
    "        return XW / np.sum(XW)\n",
    "\n",
    "    def LP_extraction(self, w, Mat, max_num, tau):\n",
    "        m = pulp.LpProblem(sense=pulp.LpMinimize)\n",
    "        # 创建最小化问题\n",
    "        var = []\n",
    "        for i in range(len(self.paths)):\n",
    "            var.append(pulp.LpVariable(f'x{i}', cat=pulp.LpBinary))\n",
    "        for i in range(len(w)):\n",
    "            var.append(pulp.LpVariable(f'k{i}', cat=pulp.LpInteger, lowBound=0))\n",
    "        # 添加变量x_0至x_{M-1}, k_0至k_{N-1}\n",
    "\n",
    "        m += pulp.lpSum([w[j] * (var[j + len(self.paths)])\n",
    "                         for j in range(len(w))])\n",
    "        # 添加目标函数\n",
    "\n",
    "        m += (pulp.lpSum([var[j] for j in range(len(self.paths))]) <= max_num)\n",
    "        # 筛选出不超过max_num条规则\n",
    "\n",
    "        for j in range(len(w)):\n",
    "            m += (var[j + len(self.paths)] >= 1000 + tau - pulp.lpSum([var[k] * Mat[k][j] for k in range(len(self.paths))]))\n",
    "            m += (var[j + len(self.paths)] >= 1000)\n",
    "            # max约束\n",
    "\n",
    "        m.solve(pulp.PULP_CBC_CMD())#solver = pulp.solver.CPLEX())#\n",
    "        new_paths = [self.paths[i] for i in range(len(self.paths)) if var[i].value() > 0]\n",
    "        new_path_indexes = [self.paths[i]['name'] for i in range(len(self.paths)) if var[i].value() > 0]\n",
    "        return new_paths, new_path_indexes\n"
   ],
   "outputs": [],
   "metadata": {}
  },
  {
   "cell_type": "code",
   "execution_count": 8,
   "source": [
    "ex = Extractor(rf, X_train, y_train)\n",
    "ex.compute_accuracy(paths)"
   ],
   "outputs": [
    {
     "output_type": "execute_result",
     "data": {
      "text/plain": [
       "0.8822314049586777"
      ]
     },
     "metadata": {},
     "execution_count": 8
    }
   ],
   "metadata": {}
  },
  {
   "cell_type": "code",
   "execution_count": 11,
   "source": [
    "label1 = ex.predict(paths)\n",
    "y_train2 = clf.predict(X_train)\n",
    "label2 = y_train == y_train2\n"
   ],
   "outputs": [],
   "metadata": {}
  },
  {
   "cell_type": "code",
   "execution_count": 31,
   "source": [
    "def check_sample(paths, X):\n",
    "    ret = []\n",
    "    for path in paths:\n",
    "        m = path['range']\n",
    "        ans = 1\n",
    "        for key in m:\n",
    "            ans = ans * (X[int(key)] >= m[key][0]) * (X[int(key)] < m[key][1])\n",
    "        if ans > 0:\n",
    "            ret.append(path['output'])\n",
    "    return ret"
   ],
   "outputs": [],
   "metadata": {}
  },
  {
   "cell_type": "code",
   "execution_count": 63,
   "source": [
    "index = 18\n",
    "ret = check_sample(paths, X_train[index])\n",
    "print(len(ret), sum([int(x) for x in ret]))\n",
    "clf.predict([X_train[index]])"
   ],
   "outputs": [
    {
     "output_type": "stream",
     "name": "stdout",
     "text": [
      "150 67\n"
     ]
    },
    {
     "output_type": "execute_result",
     "data": {
      "text/plain": [
       "array([1])"
      ]
     },
     "metadata": {},
     "execution_count": 63
    }
   ],
   "metadata": {}
  },
  {
   "cell_type": "code",
   "execution_count": 55,
   "source": [
    "y_train"
   ],
   "outputs": [
    {
     "output_type": "execute_result",
     "data": {
      "text/plain": [
       "array([1, 0, 1, 0, 1, 1, 1, 1, 1, 1, 1, 1, 1, 1, 1, 1, 1, 1, 1, 1, 1, 1,\n",
       "       1, 1, 0, 1, 1, 1, 1, 0, 1, 0, 1, 1, 1, 1, 0, 0, 1, 1, 1, 1, 1, 1,\n",
       "       1, 1, 1, 1, 0, 1, 1, 1, 0, 1, 1, 1, 0, 1, 0, 1, 1, 0, 1, 0, 0, 1,\n",
       "       0, 0, 1, 1, 1, 1, 1, 0, 0, 1, 1, 1, 0, 1, 1, 1, 1, 1, 1, 0, 0, 1,\n",
       "       1, 0, 0, 1, 0, 1, 1, 0, 1, 1, 0, 1, 1, 0, 1, 1, 1, 1, 0, 1, 1, 1,\n",
       "       1, 1, 1, 0, 0, 1, 0, 0, 1, 1, 0, 1, 0, 0, 0, 0, 1, 1, 1, 0, 1, 1,\n",
       "       1, 1, 0, 1, 0, 0, 1, 0, 1, 0, 0, 1, 1, 0, 1, 1, 1, 1, 1, 1, 1, 1,\n",
       "       0, 1, 1, 1, 0, 0, 1, 1, 1, 1, 1, 1, 1, 0, 0, 1, 1, 0, 1, 1, 1, 1,\n",
       "       0, 1, 1, 1, 1, 1, 0, 1, 1, 1, 1, 0, 1, 0, 1, 0, 1, 1, 0, 1, 1, 1,\n",
       "       1, 1, 1, 0, 1, 0, 0, 0, 1, 0, 1, 1, 1, 1, 1, 1, 0, 1, 0, 0, 1, 1,\n",
       "       1, 0, 1, 1, 1, 1, 1, 1, 1, 0, 1, 1, 1, 1, 1, 0, 1, 0, 1, 1, 0, 1,\n",
       "       1, 1, 1, 1, 1, 0, 1, 1, 0, 0, 0, 1, 1, 1, 1, 1, 1, 1, 1, 0, 1, 1,\n",
       "       0, 0, 1, 1, 1, 1, 1, 1, 0, 1, 1, 1, 1, 1, 1, 1, 1, 1, 0, 1, 0, 0,\n",
       "       0, 1, 0, 0, 1, 1, 0, 0, 0, 0, 1, 1, 0, 0, 1, 0, 1, 0, 1, 1, 0, 1,\n",
       "       1, 1, 1, 1, 1, 1, 1, 1, 1, 1, 1, 1, 1, 0, 0, 0, 1, 1, 1, 1, 0, 1,\n",
       "       1, 1, 1, 1, 1, 1, 0, 0, 0, 1, 1, 0, 0, 1, 1, 1, 0, 1, 0, 1, 1, 0,\n",
       "       1, 1, 0, 1, 1, 1, 0, 0, 1, 1, 1, 1, 1, 1, 0, 1, 1, 1, 1, 0, 1, 0,\n",
       "       1, 1, 0, 1, 1, 0, 1, 1, 1, 0, 1, 1, 1, 1, 0, 1, 0, 0, 1, 0, 1, 1,\n",
       "       1, 1, 1, 1, 1, 1, 1, 0, 1, 0, 0, 1, 1, 1, 0, 1, 0, 1, 1, 1, 1, 1,\n",
       "       1, 1, 0, 1, 0, 0, 1, 0, 1, 0, 1, 1, 0, 0, 1, 1, 0, 1, 0, 0, 1, 0,\n",
       "       1, 0, 0, 0, 1, 1, 0, 1, 0, 1, 1, 0, 1, 1, 0, 1, 1, 1, 0, 1, 0, 1,\n",
       "       1, 1, 0, 0, 1, 1, 1, 1, 0, 0, 0, 0, 1, 1, 1, 1, 0, 0, 0, 0, 1, 1,\n",
       "       1, 1, 1, 1, 1, 0, 0, 1, 1, 0, 1, 1, 1, 0, 1, 1, 1, 1, 1, 1, 1, 1,\n",
       "       0, 0, 0, 1, 1, 0, 1, 1, 0, 0, 1, 0, 1, 1, 1, 1, 1, 0, 1, 1, 1, 1,\n",
       "       1, 1, 1, 1, 1, 1, 1, 1, 1, 1, 1, 1, 1, 1, 1, 0, 1, 1, 1, 1, 0, 1,\n",
       "       1, 1, 1, 0, 1, 0, 1, 1, 1, 0, 1, 0, 1, 0, 0, 0, 1, 1, 1, 0, 1, 1,\n",
       "       1, 1, 1, 1, 0, 1, 0, 1, 1, 1, 0, 1, 0, 0, 0, 0, 1, 1, 1, 0, 0, 1,\n",
       "       0, 1, 1, 0, 1, 0, 0, 1, 1, 1, 0, 0, 0, 1, 1, 1, 1, 1, 1, 1, 1, 1,\n",
       "       1, 1, 0, 1, 0, 1, 1, 1, 1, 1, 1, 0, 1, 0, 1, 0, 0, 1, 0, 0, 1, 0,\n",
       "       1, 0, 0, 1, 0, 0, 1, 0, 1, 1, 1, 1, 1, 1, 1, 1, 1, 1, 0, 1, 0, 1,\n",
       "       0, 0, 1, 0, 1, 1, 0, 1, 1, 1, 1, 1, 1, 1, 1, 1, 1, 1, 1, 1, 0, 1,\n",
       "       1, 1, 0, 1, 1, 1, 1, 1, 1, 1, 1, 0, 1, 1, 1, 0, 0, 1, 0, 0, 0, 0,\n",
       "       0, 0, 0, 0, 0, 0, 0, 0, 0, 0, 0, 0, 0, 0, 0, 0, 0, 0, 0, 0, 0, 0,\n",
       "       0, 0, 0, 0, 0, 0, 0, 0, 0, 0, 0, 0, 0, 0, 0, 0, 0, 0, 0, 0, 0, 0,\n",
       "       0, 0, 0, 0, 0, 0, 0, 0, 0, 0, 0, 0, 0, 0, 0, 0, 0, 0, 0, 0, 0, 0,\n",
       "       0, 0, 0, 0, 0, 0, 0, 0, 0, 0, 0, 0, 0, 0, 0, 0, 0, 0, 0, 0, 0, 0,\n",
       "       0, 0, 0, 0, 0, 0, 0, 0, 0, 0, 0, 0, 0, 0, 0, 0, 0, 0, 0, 0, 0, 0,\n",
       "       0, 0, 0, 0, 0, 0, 0, 0, 0, 0, 0, 0, 0, 0, 0, 0, 0, 0, 0, 0, 0, 0,\n",
       "       0, 0, 0, 0, 0, 0, 0, 0, 0, 0, 0, 0, 0, 0, 0, 0, 0, 0, 0, 0, 0, 0,\n",
       "       0, 0, 0, 0, 0, 0, 0, 0, 0, 0, 0, 0, 0, 0, 0, 0, 0, 0, 0, 0, 0, 0,\n",
       "       0, 0, 0, 0, 0, 0, 0, 0, 0, 0, 0, 0, 0, 0, 0, 0, 0, 0, 0, 0, 0, 0,\n",
       "       0, 0, 0, 0, 0, 0, 0, 0, 0, 0, 0, 0, 0, 0, 0, 0, 0, 0, 0, 0, 0, 0,\n",
       "       0, 0, 0, 0, 0, 0, 0, 0, 0, 0, 0, 0, 0, 0, 0, 0, 0, 0, 0, 0, 0, 0,\n",
       "       0, 0, 0, 0, 0, 0, 0, 0, 0, 0, 0, 0, 0, 0, 0, 0, 0, 0, 0, 0, 0, 0])"
      ]
     },
     "metadata": {},
     "execution_count": 55
    }
   ],
   "metadata": {}
  },
  {
   "cell_type": "markdown",
   "source": [
    "train_y"
   ],
   "metadata": {}
  },
  {
   "cell_type": "code",
   "execution_count": 168,
   "source": [
    "ret = ex.extract(75, 10)\n"
   ],
   "outputs": [],
   "metadata": {}
  },
  {
   "cell_type": "code",
   "execution_count": 171,
   "source": [
    "print(ret[2:])\n",
    "paths = rf.get_paths()\n",
    "\n",
    "all_paths = []\n",
    "for t in paths:\n",
    "    all_paths = all_paths + t\n",
    "\n",
    "import shap\n",
    "\n",
    "explainer = shap.Explainer(r_clf)\n",
    "shap_values = explainer(X)"
   ],
   "outputs": [
    {
     "output_type": "stream",
     "name": "stdout",
     "text": [
      "(0.892, 0.804)\n"
     ]
    }
   ],
   "metadata": {}
  },
  {
   "cell_type": "code",
   "execution_count": 185,
   "source": [
    "features = []\n",
    "for index, feature in enumerate(data.columns):\n",
    "    if len(feature_aggregate[index]) == 1:\n",
    "        i = feature_aggregate[index][0]\n",
    "        features.append({\n",
    "            \"name\": feature,\n",
    "            \"range\": [rf.feature_range[0][i], rf.feature_range[1][i]],\n",
    "            \"importance\": r_clf.feature_importances_[i],\n",
    "            \"dtype\": \"numeric\",\n",
    "        })\n",
    "    else:\n",
    "        features.append({\n",
    "            \"name\": feature,\n",
    "            \"range\": [feature_unique[feature]],\n",
    "            \"importance\": sum([r_clf.feature_importances_[i] for i in feature_aggregate[index]]),\n",
    "            \"dtype\": \"object\",\n",
    "        })\n",
    "\n",
    "for path in all_paths:\n",
    "    new_range = {}\n",
    "    for index in path['range']:\n",
    "        feature = feature_origin[int(index)]\n",
    "        if type(feature) == list:\n",
    "            if feature[0] not in new_range:\n",
    "                new_range[feature[0]] = [-1] * len(feature_unique[feature[0]])\n",
    "            new_range[feature[0]][feature[1]] = 0 if path['range'][index][0] == 0 else 1\n",
    "        else:\n",
    "            new_range[feature] = path['range'][index]\n",
    "    path['range'] = new_range\n",
    "\n",
    "output_data = {\n",
    "    'paths': all_paths,\n",
    "    'features': features,\n",
    "    'selected': ret[0],\n",
    "    'shap_values': shap_values,\n",
    "}\n",
    "\n",
    "import pickle\n",
    "pickle.dump(output_data, open('output/german2.pkl', 'wb'))"
   ],
   "outputs": [],
   "metadata": {}
  },
  {
   "cell_type": "code",
   "execution_count": 187,
   "source": [
    "all_paths[5]"
   ],
   "outputs": [
    {
     "output_type": "execute_result",
     "data": {
      "text/plain": [
       "{'name': 'r5-0',\n",
       " 'tree_index': 0,\n",
       " 'rule_index': 5,\n",
       " 'range': {'Length of current employment': [-1, -1, 0, 0, -1],\n",
       "  'Account Balance': [-1, -1, 0, 0],\n",
       "  'Payment Status of Previous Credit': [-1, -1, 1, -1, 0],\n",
       "  'Value Savings/Stocks': [-1, -1, 0, -1, -1],\n",
       "  'Credit Amount': [669.5, 18424.000000001],\n",
       "  'Purpose': [-1, -1, -1, -1, 1, -1, -1, -1, -1, -1]},\n",
       " 'distribution': [22.0, 14.0],\n",
       " 'coverage': 36.0,\n",
       " 'fidelity': 0.6111111111111112,\n",
       " 'sample': array([0., 0., 0., 0., 0., 0., 0., 0., 0., 0., 0., 0., 0., 0., 0., 0., 0.,\n",
       "        0., 0., 0., 0., 0., 0., 0., 0., 0., 0., 0., 0., 0., 0., 0., 0., 0.,\n",
       "        0., 0., 0., 0., 0., 0., 0., 0., 0., 0., 0., 0., 0., 0., 0., 0., 0.,\n",
       "        0., 0., 0., 0., 0., 1., 0., 0., 0., 0., 0., 0., 0., 0., 0., 0., 0.,\n",
       "        0., 0., 0., 0., 0., 0., 0., 0., 1., 0., 0., 0., 0., 0., 0., 0., 1.,\n",
       "        0., 0., 0., 0., 0., 0., 0., 0., 0., 0., 0., 0., 0., 0., 0., 0., 0.,\n",
       "        0., 0., 0., 0., 0., 0., 0., 0., 0., 0., 0., 0., 0., 0., 0., 0., 0.,\n",
       "        0., 0., 0., 0., 0., 0., 0., 0., 0., 0., 0., 0., 0., 0., 0., 0., 0.,\n",
       "        0., 0., 0., 0., 0., 1., 0., 0., 0., 0., 0., 0., 0., 0., 0., 0., 0.,\n",
       "        0., 0., 0., 0., 0., 0., 0., 0., 0., 0., 0., 0., 0., 0., 0., 0., 0.,\n",
       "        0., 0., 0., 0., 0., 0., 0., 0., 0., 0., 0., 0., 0., 0., 0., 0., 0.,\n",
       "        0., 0., 0., 0., 0., 0., 0., 0., 0., 0., 0., 0., 0., 0., 0., 0., 0.,\n",
       "        0., 0., 0., 0., 0., 0., 0., 0., 0., 0., 0., 0., 0., 0., 0., 0., 0.,\n",
       "        0., 0., 0., 0., 0., 0., 0., 0., 0., 0., 0., 0., 0., 0., 1., 0., 0.,\n",
       "        0., 1., 0., 0., 0., 0., 0., 0., 0., 0., 0., 0., 0., 0., 0., 0., 0.,\n",
       "        0., 0., 0., 0., 0., 0., 1., 0., 0., 0., 1., 0., 0., 0., 0., 0., 0.,\n",
       "        0., 0., 0., 0., 0., 0., 0., 0., 0., 0., 0., 0., 0., 0., 0., 0., 0.,\n",
       "        0., 0., 0., 0., 0., 0., 0., 0., 0., 0., 0., 0., 0., 0., 0., 0., 0.,\n",
       "        0., 1., 0., 0., 0., 0., 0., 0., 0., 0., 0., 0., 0., 0., 0., 1., 0.,\n",
       "        0., 0., 0., 0., 0., 0., 1., 0., 0., 0., 0., 0., 0., 1., 0., 0., 0.,\n",
       "        0., 0., 0., 0., 0., 0., 0., 0., 0., 0., 0., 0., 0., 0., 0., 0., 0.,\n",
       "        0., 0., 0., 0., 0., 0., 0., 0., 0., 0., 0., 0., 0., 0., 0., 0., 0.,\n",
       "        0., 0., 0., 0., 0., 0., 0., 0., 0., 0., 0., 0., 0., 0., 0., 0., 0.,\n",
       "        0., 0., 0., 0., 0., 0., 0., 0., 0., 0., 0., 0., 0., 0., 1., 0., 1.,\n",
       "        0., 0., 1., 0., 0., 0., 0., 0., 0., 0., 0., 0., 0., 0., 0., 0., 0.,\n",
       "        0., 0., 0., 0., 0., 0., 0., 0., 0., 0., 0., 0., 0., 0., 0., 0., 0.,\n",
       "        0., 0., 0., 0., 0., 0., 0., 0., 0., 0., 0., 0., 0., 0., 0., 0., 0.,\n",
       "        0., 0., 0., 0., 0., 0., 0., 0., 0., 0., 0., 1., 0., 0., 0., 0., 0.,\n",
       "        0., 0., 0., 0., 0., 0., 0., 0., 0., 0., 0., 0., 0., 0., 0., 0., 0.,\n",
       "        0., 0., 0., 0., 0., 1., 0., 0., 0., 0., 0., 0., 0., 0., 0., 0., 0.,\n",
       "        0., 0., 0., 0., 0., 0., 0., 0., 0., 0., 0., 0., 0., 0., 0., 0., 0.,\n",
       "        0., 0., 0., 0., 0., 0., 0., 0., 0., 0., 0., 0., 0., 1., 0., 0., 0.,\n",
       "        0., 0., 0., 0., 0., 0., 0., 0., 0., 0., 0., 1., 0., 0., 0., 0., 0.,\n",
       "        0., 0., 0., 0., 0., 0., 0., 0., 0., 0., 0., 0., 0., 1., 0., 0., 0.,\n",
       "        0., 0., 0., 0., 0., 0., 0., 0., 0., 0., 0., 0., 0., 0., 0., 0., 0.,\n",
       "        0., 0., 0., 0., 0., 1., 0., 0., 0., 0., 0., 0., 0., 0., 0., 0., 0.,\n",
       "        1., 0., 0., 0., 0., 0., 0., 0., 0., 0., 0., 0., 0., 0., 0., 0., 0.,\n",
       "        0., 0., 0., 1., 0., 0., 0., 0., 0., 0., 0., 0., 0., 0., 0., 0., 0.,\n",
       "        0., 0., 0., 0., 0., 0., 0., 0., 0., 0., 0., 0., 0., 0., 0., 0., 0.,\n",
       "        0., 0., 0., 0., 0., 0., 0., 0., 0., 0., 0., 0., 0., 0., 0., 1., 0.,\n",
       "        0., 0., 0., 0., 0., 0., 0., 0., 0., 0., 0., 0., 1., 0., 0., 0., 0.,\n",
       "        0., 0., 0., 0., 0., 0., 0., 0., 0., 0., 0., 1., 0., 0., 0., 0., 0.,\n",
       "        0., 0., 0., 0., 0., 0., 0., 0., 0., 0., 0., 0., 0., 0., 0., 0., 0.,\n",
       "        0., 0., 0., 0., 0., 0., 0., 0., 0., 0., 0., 0., 0., 0., 0., 0., 0.,\n",
       "        0., 0., 0., 0., 0., 0., 0., 0., 0., 0., 0., 0., 0., 0., 0., 0., 0.,\n",
       "        1., 0., 0., 0., 0., 0., 0., 0., 0., 0., 0., 0., 0., 0., 0., 0., 0.,\n",
       "        0., 0., 0., 0., 0., 0., 0., 0., 0., 0., 0., 0., 0., 0., 0., 0., 0.,\n",
       "        0., 0., 0., 0., 0., 0., 0., 0., 0., 0., 0., 0., 0., 0., 0., 0., 0.,\n",
       "        0., 0., 0., 0., 0., 0., 0., 0., 0., 0., 0., 0., 0., 0., 0., 0., 0.,\n",
       "        1., 0., 0., 0., 0., 0., 0., 0., 0., 0., 0., 0., 0., 0., 0., 0., 1.,\n",
       "        0., 0., 0., 0., 0., 0., 0., 0., 0., 0., 0., 0., 1., 0., 0., 0., 1.,\n",
       "        0., 0., 0., 0., 0., 0., 0., 0., 0., 0., 0., 0., 0., 0., 0., 0., 0.,\n",
       "        0., 0., 0., 0., 0., 0., 0., 0., 0., 0., 0., 0., 1., 0., 0., 0., 0.,\n",
       "        0., 0., 0., 0., 0., 0., 0., 0., 0., 0., 0., 1., 0., 0., 0., 0., 0.,\n",
       "        0., 0., 0., 0., 1., 0., 0., 0., 0., 0., 0., 0., 0., 1., 0., 0., 0.,\n",
       "        0., 0., 1., 0., 0., 0., 0., 0., 0., 0., 0., 0., 0., 0., 0., 0., 0.,\n",
       "        0., 0., 0., 0., 0., 0., 0., 0., 0., 0., 0., 0., 0., 0., 0., 0., 0.,\n",
       "        0., 0., 0., 0., 0., 0., 0., 0., 0., 0., 0., 0., 0., 0., 0., 0., 0.,\n",
       "        0., 0., 0., 0., 0., 0., 0., 0., 0., 0., 0., 0., 0., 0.]),\n",
       " 'output': '0'}"
      ]
     },
     "metadata": {},
     "execution_count": 187
    }
   ],
   "metadata": {}
  },
  {
   "cell_type": "code",
   "execution_count": 56,
   "source": [
    "features"
   ],
   "outputs": [
    {
     "output_type": "execute_result",
     "data": {
      "text/plain": [
       "['A11',\n",
       " 'A12',\n",
       " 'A13',\n",
       " 'A14',\n",
       " 'Duration of Credit (month)',\n",
       " 'A30',\n",
       " 'A31',\n",
       " 'A32',\n",
       " 'A33',\n",
       " 'A34',\n",
       " 'A40',\n",
       " 'A41',\n",
       " 'A410',\n",
       " 'A42',\n",
       " 'A43',\n",
       " 'A44',\n",
       " 'A45',\n",
       " 'A46',\n",
       " 'A48',\n",
       " 'A49',\n",
       " 'Credit Amount',\n",
       " 'A61',\n",
       " 'A62',\n",
       " 'A63',\n",
       " 'A64',\n",
       " 'A65',\n",
       " 'A71',\n",
       " 'A72',\n",
       " 'A73',\n",
       " 'A74',\n",
       " 'A75',\n",
       " 'Installment per cent',\n",
       " 'A91',\n",
       " 'A92',\n",
       " 'A93',\n",
       " 'A94',\n",
       " 'A101',\n",
       " 'A102',\n",
       " 'A103',\n",
       " 'Duration in Current address',\n",
       " 'A121',\n",
       " 'A122',\n",
       " 'A123',\n",
       " 'A124',\n",
       " 'Age (years)',\n",
       " 'A141',\n",
       " 'A142',\n",
       " 'A143',\n",
       " 'A151',\n",
       " 'A152',\n",
       " 'A153',\n",
       " 'No of Credits at this Bank',\n",
       " 'A171',\n",
       " 'A172',\n",
       " 'A173',\n",
       " 'A174',\n",
       " 'No of dependents',\n",
       " 'A191',\n",
       " 'A192',\n",
       " 'A201',\n",
       " 'A202']"
      ]
     },
     "metadata": {},
     "execution_count": 56
    }
   ],
   "metadata": {}
  },
  {
   "cell_type": "code",
   "execution_count": 126,
   "source": [
    "sum(ex.Mat[10] == 1)"
   ],
   "outputs": [
    {
     "output_type": "execute_result",
     "data": {
      "text/plain": [
       "165"
      ]
     },
     "metadata": {},
     "execution_count": 126
    }
   ],
   "metadata": {}
  },
  {
   "cell_type": "code",
   "execution_count": 17,
   "source": [
    "\n"
   ],
   "outputs": [],
   "metadata": {}
  },
  {
   "cell_type": "code",
   "execution_count": 20,
   "source": [],
   "outputs": [],
   "metadata": {}
  },
  {
   "cell_type": "code",
   "execution_count": 21,
   "source": [
    "print(shap_values[0])"
   ],
   "outputs": [
    {
     "output_type": "stream",
     "name": "stdout",
     "text": [
      ".values =\n",
      "array([[ 1.09110125e-01, -1.09110125e-01],\n",
      "       [ 3.01264698e-03, -3.01264698e-03],\n",
      "       [-1.24874332e-01,  1.24874332e-01],\n",
      "       [ 2.10891519e-03, -2.10891519e-03],\n",
      "       [-1.99799022e-02,  1.99799022e-02],\n",
      "       [ 3.40283799e-02, -3.40283799e-02],\n",
      "       [ 3.85628726e-02, -3.85628726e-02],\n",
      "       [ 5.60976830e-03, -5.60976830e-03],\n",
      "       [ 3.36153339e-02, -3.36153339e-02],\n",
      "       [ 3.85308858e-03, -3.85308858e-03],\n",
      "       [-2.39386825e-02,  2.39386825e-02],\n",
      "       [ 7.02421386e-03, -7.02421386e-03],\n",
      "       [ 1.96232689e-02, -1.96232689e-02],\n",
      "       [-1.74483971e-02,  1.74483971e-02],\n",
      "       [ 6.65478065e-02, -6.65478065e-02],\n",
      "       [ 6.73321595e-03, -6.73321595e-03],\n",
      "       [ 1.58162875e-03, -1.58162875e-03],\n",
      "       [-6.93273863e-05,  6.93273863e-05],\n",
      "       [ 5.12965848e-03, -5.12965848e-03],\n",
      "       [ 2.51444887e-03, -2.51444887e-03]])\n",
      "\n",
      ".base_values =\n",
      "array([0.50028956, 0.49971044])\n",
      "\n",
      ".data =\n",
      "array([   1,   18,    4,    2, 1049,    1,    2,    4,    2,    1,    4,\n",
      "          2,   21,    3,    1,    1,    3,    1,    1,    1])\n"
     ]
    }
   ],
   "metadata": {}
  },
  {
   "cell_type": "code",
   "execution_count": 155,
   "source": [
    "left_paths = [path for path in all_paths if path['fidelity'] > 0.75]\n",
    "left_paths.sort(key=lambda x: -x['coverage'])"
   ],
   "outputs": [],
   "metadata": {}
  },
  {
   "cell_type": "code",
   "execution_count": 53,
   "source": [
    "import random\n",
    "print(ex.compute_accuracy([ex.paths[i] for i in random.sample(range(3000), 75)]))"
   ],
   "outputs": [
    {
     "output_type": "stream",
     "name": "stdout",
     "text": [
      "0.76\n"
     ]
    }
   ],
   "metadata": {}
  },
  {
   "cell_type": "code",
   "execution_count": 158,
   "source": [
    "print(ret[])"
   ],
   "outputs": [
    {
     "output_type": "execute_result",
     "data": {
      "text/plain": [
       "{'name': 'r67-90',\n",
       " 'tree_index': 90,\n",
       " 'rule_index': 67,\n",
       " 'range': {'3': [0.5, 1.000000001],\n",
       "  '8': [0, 0.5],\n",
       "  '44': [19, 66.5],\n",
       "  '49': [0.5, 1.000000001]},\n",
       " 'distribution': [0.0, 245.0],\n",
       " 'coverage': 245.0,\n",
       " 'fidelity': 1.0,\n",
       " 'sample': array([0., 0., 1., 0., 0., 0., 1., 0., 1., 0., 0., 0., 0., 0., 0., 0., 1.,\n",
       "        0., 0., 1., 1., 0., 0., 0., 1., 0., 1., 0., 0., 0., 0., 0., 0., 0.,\n",
       "        0., 0., 0., 0., 0., 0., 1., 0., 0., 0., 0., 1., 1., 0., 1., 1., 0.,\n",
       "        0., 1., 1., 0., 1., 0., 1., 0., 0., 0., 0., 0., 0., 1., 1., 1., 0.,\n",
       "        0., 1., 1., 0., 0., 0., 0., 0., 0., 0., 1., 0., 1., 1., 0., 0., 0.,\n",
       "        1., 0., 0., 0., 0., 1., 0., 1., 0., 0., 0., 1., 0., 0., 0., 0., 0.,\n",
       "        0., 0., 0., 0., 1., 0., 0., 0., 0., 0., 0., 1., 0., 1., 0., 0., 0.,\n",
       "        0., 0., 0., 0., 0., 0., 0., 0., 0., 0., 0., 0., 0., 1., 0., 1., 1.,\n",
       "        0., 0., 0., 0., 0., 0., 0., 0., 1., 0., 0., 1., 0., 1., 0., 1., 0.,\n",
       "        0., 0., 0., 0., 0., 0., 1., 1., 1., 1., 0., 1., 1., 0., 0., 0., 0.,\n",
       "        0., 1., 0., 0., 0., 1., 0., 0., 0., 0., 0., 0., 0., 1., 0., 1., 0.,\n",
       "        0., 0., 0., 1., 0., 0., 0., 0., 0., 1., 0., 0., 0., 1., 0., 0., 0.,\n",
       "        1., 0., 1., 0., 0., 1., 1., 1., 0., 0., 1., 0., 0., 0., 0., 1., 0.,\n",
       "        0., 1., 0., 1., 1., 0., 0., 1., 0., 0., 0., 1., 0., 1., 0., 0., 0.,\n",
       "        1., 0., 0., 1., 0., 1., 1., 1., 1., 0., 0., 0., 0., 0., 0., 0., 0.,\n",
       "        0., 1., 0., 1., 1., 0., 0., 0., 0., 1., 0., 1., 1., 0., 1., 1., 0.,\n",
       "        0., 0., 0., 1., 1., 0., 1., 0., 0., 1., 0., 1., 0., 0., 0., 0., 0.,\n",
       "        0., 1., 0., 0., 0., 1., 0., 0., 1., 1., 0., 1., 0., 0., 0., 0., 1.,\n",
       "        0., 0., 0., 0., 0., 1., 0., 0., 0., 0., 0., 0., 1., 0., 0., 0., 0.,\n",
       "        0., 1., 0., 0., 1., 0., 0., 0., 1., 0., 0., 0., 0., 0., 0., 0., 0.,\n",
       "        0., 0., 0., 0., 0., 1., 0., 0., 0., 0., 0., 0., 1., 0., 0., 0., 1.,\n",
       "        0., 1., 0., 0., 0., 0., 0., 0., 1., 1., 0., 0., 0., 1., 1., 0., 0.,\n",
       "        0., 0., 0., 0., 0., 1., 0., 0., 0., 0., 0., 1., 0., 0., 0., 1., 1.,\n",
       "        0., 0., 0., 1., 0., 0., 0., 0., 1., 1., 0., 0., 0., 0., 0., 1., 0.,\n",
       "        1., 0., 0., 1., 1., 0., 0., 1., 0., 0., 1., 0., 0., 0., 0., 0., 0.,\n",
       "        0., 1., 1., 1., 0., 0., 0., 0., 1., 0., 0., 0., 1., 0., 0., 1., 0.,\n",
       "        0., 1., 0., 0., 0., 0., 0., 0., 1., 1., 1., 1., 0., 1., 0., 0., 0.,\n",
       "        1., 0., 0., 0., 0., 1., 0., 0., 0., 0., 0., 0., 0., 0., 1., 0., 0.,\n",
       "        1., 0., 0., 0., 0., 0., 0., 0., 1., 0., 1., 0., 0., 0., 1., 0., 1.,\n",
       "        0., 0., 0., 0., 1., 0., 0., 0., 0., 0., 0., 0., 1., 0., 0., 1., 1.,\n",
       "        0., 0., 0., 0., 1., 0., 0., 0., 0., 0., 0., 0., 0., 1., 0., 0., 1.,\n",
       "        1., 0., 0., 0., 0., 0., 1., 1., 0., 0., 0., 0., 0., 0., 0., 0., 0.,\n",
       "        1., 0., 1., 1., 0., 0., 1., 1., 0., 0., 0., 0., 0., 1., 0., 0., 0.,\n",
       "        0., 0., 0., 0., 0., 0., 1., 0., 0., 0., 1., 0., 0., 0., 1., 0., 1.,\n",
       "        0., 1., 0., 0., 0., 0., 0., 0., 0., 0., 0., 0., 0., 0., 1., 0., 0.,\n",
       "        0., 0., 0., 1., 0., 0., 0., 0., 1., 0., 0., 0., 0., 1., 0., 0., 0.,\n",
       "        0., 0., 0., 0., 0., 0., 0., 1., 0., 1., 1., 0., 0., 1., 0., 0., 1.,\n",
       "        1., 0., 0., 0., 0., 0., 1., 1., 0., 1., 0., 0., 0., 1., 1., 0., 0.,\n",
       "        0., 1., 0., 0., 0., 0., 0., 0., 1., 0., 0., 1., 0., 0., 0., 0., 1.,\n",
       "        0., 0., 1., 0., 1., 0., 0., 1., 1., 1., 1., 0., 0., 1., 0., 0., 1.,\n",
       "        1., 0., 0., 0., 0., 0., 0., 0., 1., 0., 0., 0., 0., 0., 1., 0., 0.,\n",
       "        1., 1., 0., 0., 0., 0., 0., 0., 0., 0., 0., 0., 0., 1., 0., 1., 0.,\n",
       "        0., 1., 1., 0., 0., 0., 0., 0., 0., 0., 0., 1., 1., 0., 0., 0., 0.,\n",
       "        0., 0., 0., 1., 0., 0., 0., 1., 0., 0., 0., 1., 0., 0., 0., 0., 0.,\n",
       "        1., 1., 0., 0., 0., 1., 0., 0., 0., 0., 1., 0., 1., 0., 0., 0., 1.,\n",
       "        0., 0., 0., 0., 1., 0., 0., 1., 1., 0., 0., 1., 0., 1., 0., 0., 1.,\n",
       "        0., 0., 0., 0., 1., 1., 0., 0., 0., 1., 1., 0., 0., 0., 0., 0., 0.,\n",
       "        0., 0., 0., 0., 1., 0., 0., 0., 1., 0., 0., 0., 0., 0., 0., 0., 0.,\n",
       "        1., 0., 0., 0., 1., 0., 0., 0., 1., 0., 0., 1., 0., 0., 0., 0., 0.,\n",
       "        0., 0., 0., 1., 0., 0., 1., 0., 0., 1., 1., 1., 0., 0., 1., 0., 0.,\n",
       "        0., 1., 0., 0., 0., 1., 1., 0., 0., 0., 1., 0., 0., 1., 0., 0., 0.,\n",
       "        1., 1., 0., 0., 0., 0., 1., 0., 0., 0., 1., 0., 1., 1., 0., 0., 1.,\n",
       "        0., 0., 0., 0., 1., 0., 0., 1., 0., 0., 1., 0., 0., 1., 0., 0., 0.,\n",
       "        1., 0., 0., 1., 0., 0., 0., 0., 0., 0., 0., 0., 1., 0., 0., 1., 0.,\n",
       "        0., 0., 1., 0., 0., 0., 0., 0., 0., 0., 1., 0., 0., 0., 1., 1., 0.,\n",
       "        0., 0., 0., 0., 1., 1., 1., 1., 1., 0., 0., 0., 1., 1., 1., 0., 0.,\n",
       "        0., 1., 0., 0., 0., 0., 0., 0., 0., 0., 1., 1., 0., 0., 0., 0., 0.,\n",
       "        0., 0., 1., 0., 0., 1., 0., 0., 0., 0., 0., 0., 0., 0., 0., 1., 0.,\n",
       "        0., 1., 0., 0., 1., 1., 0., 0., 1., 1., 0., 1., 0., 0.]),\n",
       " 'output': '1'}"
      ]
     },
     "metadata": {},
     "execution_count": 158
    }
   ],
   "metadata": {}
  }
 ],
 "metadata": {
  "orig_nbformat": 4,
  "language_info": {
   "name": "python",
   "version": "3.8.1",
   "mimetype": "text/x-python",
   "codemirror_mode": {
    "name": "ipython",
    "version": 3
   },
   "pygments_lexer": "ipython3",
   "nbconvert_exporter": "python",
   "file_extension": ".py"
  },
  "kernelspec": {
   "name": "python3",
   "display_name": "Python 3.8.1 64-bit"
  },
  "interpreter": {
   "hash": "e4ca62cc624854f73843cd7b3352ae633eb01f3e4f77eee16509c1692ddd1ed1"
  }
 },
 "nbformat": 4,
 "nbformat_minor": 2
}